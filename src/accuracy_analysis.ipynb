{
 "cells": [
  {
   "cell_type": "markdown",
   "metadata": {},
   "source": [
    "### Chandra Deep Field Redshift vs H20 Redshift\n",
    "\n",
    "This notebook will plot the redshift of matched objects from the chandra deep field and the H20 dataset in order to assess the accuracy of LYR matches"
   ]
  },
  {
   "cell_type": "code",
   "execution_count": 1,
   "metadata": {},
   "outputs": [],
   "source": [
    "import numpy as np\n",
    "import pandas as pd\n",
    "import matplotlib.pyplot as plt\n",
    "from astropy.io import fits"
   ]
  },
  {
   "cell_type": "code",
   "execution_count": null,
   "metadata": {},
   "outputs": [],
   "source": [
    "data_file_path = \"/Users/admin/Documents/GitHub/H20-eROSITA-Matched-Catalog-Analysis/src/data/LR_Final_XJ.txt\"\n",
    "eROSITA_file_path = \"/Users/admin/Documents/GitHub/H20-eROSITA-Matched-Catalog-Analysis/src/data/eRASS1_Main.v1.1.fits\"\n",
    "h2O_file_path = \"/Users/admin/Documents/GitHub/H20-eROSITA-Matched-Catalog-Analysis/src/data/DAWN_EDFF_DR1.fits\"\n",
    "data_output_path = \"/Users/admin/Documents/GitHub/H20-eROSITA-Matched-Catalog-Analysis/src/data_processed\"\n",
    "\n",
    "pd.set_option('display.max_columns', None)\n",
    "pd.set_option('display.max_rows', None)"
   ]
  }
 ],
 "metadata": {
  "kernelspec": {
   "display_name": "catalog_matching",
   "language": "python",
   "name": "python3"
  },
  "language_info": {
   "codemirror_mode": {
    "name": "ipython",
    "version": 3
   },
   "file_extension": ".py",
   "mimetype": "text/x-python",
   "name": "python",
   "nbconvert_exporter": "python",
   "pygments_lexer": "ipython3",
   "version": "3.12.2"
  }
 },
 "nbformat": 4,
 "nbformat_minor": 2
}
